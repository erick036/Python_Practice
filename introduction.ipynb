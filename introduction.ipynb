{
  "cells": [
    {
      "cell_type": "markdown",
      "metadata": {
        "id": "view-in-github",
        "colab_type": "text"
      },
      "source": [
        "<a href=\"https://colab.research.google.com/github/erick036/Python_Practice/blob/main/introduction.ipynb\" target=\"_parent\"><img src=\"https://colab.research.google.com/assets/colab-badge.svg\" alt=\"Open In Colab\"/></a>"
      ]
    },
    {
      "cell_type": "markdown",
      "metadata": {
        "id": "jZNMfdXP3FDY"
      },
      "source": [
        "# Introducción"
      ]
    },
    {
      "cell_type": "code",
      "execution_count": 1,
      "metadata": {
        "id": "ZbMRSwSR3FDc",
        "outputId": "bf04b20c-6b30-4ac7-e963-35f10f9827a9",
        "colab": {
          "base_uri": "https://localhost:8080/"
        }
      },
      "outputs": [
        {
          "output_type": "stream",
          "name": "stdout",
          "text": [
            "The Zen of Python, by Tim Peters\n",
            "\n",
            "Beautiful is better than ugly.\n",
            "Explicit is better than implicit.\n",
            "Simple is better than complex.\n",
            "Complex is better than complicated.\n",
            "Flat is better than nested.\n",
            "Sparse is better than dense.\n",
            "Readability counts.\n",
            "Special cases aren't special enough to break the rules.\n",
            "Although practicality beats purity.\n",
            "Errors should never pass silently.\n",
            "Unless explicitly silenced.\n",
            "In the face of ambiguity, refuse the temptation to guess.\n",
            "There should be one-- and preferably only one --obvious way to do it.\n",
            "Although that way may not be obvious at first unless you're Dutch.\n",
            "Now is better than never.\n",
            "Although never is often better than *right* now.\n",
            "If the implementation is hard to explain, it's a bad idea.\n",
            "If the implementation is easy to explain, it may be a good idea.\n",
            "Namespaces are one honking great idea -- let's do more of those!\n"
          ]
        }
      ],
      "source": [
        "import this"
      ]
    },
    {
      "cell_type": "markdown",
      "metadata": {
        "id": "DM0v2J4Y3FDe"
      },
      "source": [
        "## Calculadora y valores escalares"
      ]
    },
    {
      "cell_type": "code",
      "execution_count": 21,
      "metadata": {
        "id": "BVnjREmg3FDf",
        "outputId": "3573dbc5-3227-4bde-8c56-98f96eaab8aa",
        "colab": {
          "base_uri": "https://localhost:8080/"
        }
      },
      "outputs": [
        {
          "output_type": "execute_result",
          "data": {
            "text/plain": [
              "4"
            ]
          },
          "metadata": {},
          "execution_count": 21
        }
      ],
      "source": [
        "2+2"
      ]
    },
    {
      "cell_type": "code",
      "execution_count": 23,
      "metadata": {
        "id": "ADiOm1HP3FDg",
        "outputId": "a678e84b-9ff3-4867-a8de-95aa9c088f58",
        "colab": {
          "base_uri": "https://localhost:8080/"
        }
      },
      "outputs": [
        {
          "output_type": "execute_result",
          "data": {
            "text/plain": [
              "1020"
            ]
          },
          "metadata": {},
          "execution_count": 23
        }
      ],
      "source": [
        "(5+1)*(2 + (2*84))"
      ]
    },
    {
      "cell_type": "code",
      "execution_count": 4,
      "metadata": {
        "id": "agvbsAaO3FDi",
        "outputId": "c354ef0f-5a3d-4d25-f8d9-fccae12d3c44",
        "colab": {
          "base_uri": "https://localhost:8080/"
        }
      },
      "outputs": [
        {
          "output_type": "execute_result",
          "data": {
            "text/plain": [
              "2"
            ]
          },
          "metadata": {},
          "execution_count": 4
        }
      ],
      "source": [
        "a = 2\n",
        "a"
      ]
    },
    {
      "cell_type": "code",
      "execution_count": 5,
      "metadata": {
        "id": "7oZZ5vbZ3FDk",
        "outputId": "156c16da-714d-45c6-a801-d508927d22cf",
        "colab": {
          "base_uri": "https://localhost:8080/"
        }
      },
      "outputs": [
        {
          "output_type": "execute_result",
          "data": {
            "text/plain": [
              "(10, 20)"
            ]
          },
          "metadata": {},
          "execution_count": 5
        }
      ],
      "source": [
        "x, y = 10, 20\n",
        "x, y"
      ]
    },
    {
      "cell_type": "code",
      "execution_count": 6,
      "metadata": {
        "id": "kVxXdhGs3FDl",
        "outputId": "45d3842c-ed24-4ae4-a4dd-86b7efce23ea",
        "colab": {
          "base_uri": "https://localhost:8080/"
        }
      },
      "outputs": [
        {
          "output_type": "execute_result",
          "data": {
            "text/plain": [
              "True"
            ]
          },
          "metadata": {},
          "execution_count": 6
        }
      ],
      "source": [
        "True"
      ]
    },
    {
      "cell_type": "code",
      "execution_count": 7,
      "metadata": {
        "id": "O0N_jANT3FDn"
      },
      "outputs": [],
      "source": [
        "# Este es un comentario "
      ]
    },
    {
      "cell_type": "markdown",
      "metadata": {
        "id": "zkJ9iI-r3FDo"
      },
      "source": [
        "## Objetos"
      ]
    },
    {
      "cell_type": "code",
      "execution_count": 8,
      "metadata": {
        "id": "eM5s0wG73FDp",
        "outputId": "e178ff52-2adf-4352-b93c-0e7a015cc9a7",
        "colab": {
          "base_uri": "https://localhost:8080/"
        }
      },
      "outputs": [
        {
          "output_type": "execute_result",
          "data": {
            "text/plain": [
              "int"
            ]
          },
          "metadata": {},
          "execution_count": 8
        }
      ],
      "source": [
        "type(a)"
      ]
    },
    {
      "cell_type": "code",
      "execution_count": 9,
      "metadata": {
        "id": "8_IZHtKN3FDs",
        "outputId": "a682d523-265d-4cf7-e45a-83924bf53dd9",
        "colab": {
          "base_uri": "https://localhost:8080/"
        }
      },
      "outputs": [
        {
          "output_type": "execute_result",
          "data": {
            "text/plain": [
              "((10, 20), [10, 20])"
            ]
          },
          "metadata": {},
          "execution_count": 9
        }
      ],
      "source": [
        "t = (x, y)\n",
        "l = [x, y]\n",
        "t, l"
      ]
    },
    {
      "cell_type": "code",
      "execution_count": 10,
      "metadata": {
        "id": "1Z87FPUU3FDv",
        "outputId": "01498fde-603d-43e4-bf75-aa5356424494",
        "colab": {
          "base_uri": "https://localhost:8080/"
        }
      },
      "outputs": [
        {
          "output_type": "execute_result",
          "data": {
            "text/plain": [
              "(tuple, list)"
            ]
          },
          "metadata": {},
          "execution_count": 10
        }
      ],
      "source": [
        "type(t), type(l)"
      ]
    },
    {
      "cell_type": "code",
      "execution_count": 11,
      "metadata": {
        "id": "MyES5Rv73FDx",
        "outputId": "34b8aee8-864c-4c73-9d6e-58c5dec96472",
        "colab": {
          "base_uri": "https://localhost:8080/",
          "height": 35
        }
      },
      "outputs": [
        {
          "output_type": "execute_result",
          "data": {
            "application/vnd.google.colaboratory.intrinsic+json": {
              "type": "string"
            },
            "text/plain": [
              "'hello'"
            ]
          },
          "metadata": {},
          "execution_count": 11
        }
      ],
      "source": [
        "\"hello\""
      ]
    },
    {
      "cell_type": "markdown",
      "metadata": {
        "id": "NInvwJYX3FDy"
      },
      "source": [
        "## Impresión"
      ]
    },
    {
      "cell_type": "code",
      "execution_count": 12,
      "metadata": {
        "id": "eFYvHNYn3FDy",
        "outputId": "b2d7c706-e3cd-49a0-9bfb-f50d0cdbb3eb",
        "colab": {
          "base_uri": "https://localhost:8080/"
        }
      },
      "outputs": [
        {
          "output_type": "stream",
          "name": "stdout",
          "text": [
            "Hola mundo\n"
          ]
        }
      ],
      "source": [
        "print(\"Hola mundo\")"
      ]
    },
    {
      "cell_type": "code",
      "execution_count": 13,
      "metadata": {
        "id": "GSut1i7s3FDz",
        "outputId": "c584dc78-e04d-4742-e697-9589177762e2",
        "colab": {
          "base_uri": "https://localhost:8080/"
        }
      },
      "outputs": [
        {
          "output_type": "stream",
          "name": "stdout",
          "text": [
            "The value of a is  2\n"
          ]
        },
        {
          "output_type": "execute_result",
          "data": {
            "text/plain": [
              "2"
            ]
          },
          "metadata": {},
          "execution_count": 13
        }
      ],
      "source": [
        "print(\"The value of a is \", a)\n",
        "a"
      ]
    },
    {
      "cell_type": "code",
      "source": [
        "int(True)"
      ],
      "metadata": {
        "id": "-Y2ui9EU6H23",
        "outputId": "60dd5bbb-31fb-47de-c907-3086de109f43",
        "colab": {
          "base_uri": "https://localhost:8080/"
        }
      },
      "execution_count": 25,
      "outputs": [
        {
          "output_type": "execute_result",
          "data": {
            "text/plain": [
              "1"
            ]
          },
          "metadata": {},
          "execution_count": 25
        }
      ]
    },
    {
      "cell_type": "code",
      "source": [
        "int(2.3)"
      ],
      "metadata": {
        "id": "UutGiTVU6KZJ",
        "outputId": "ecfebba9-5d0e-4c06-bc09-02aa839d0261",
        "colab": {
          "base_uri": "https://localhost:8080/"
        }
      },
      "execution_count": 28,
      "outputs": [
        {
          "output_type": "execute_result",
          "data": {
            "text/plain": [
              "2"
            ]
          },
          "metadata": {},
          "execution_count": 28
        }
      ]
    },
    {
      "cell_type": "code",
      "source": [
        "float(2)"
      ],
      "metadata": {
        "id": "2pT9Twbo6NrM",
        "outputId": "824dc0ec-5d23-4a42-b41e-f18912db11b6",
        "colab": {
          "base_uri": "https://localhost:8080/"
        }
      },
      "execution_count": 29,
      "outputs": [
        {
          "output_type": "execute_result",
          "data": {
            "text/plain": [
              "2.0"
            ]
          },
          "metadata": {},
          "execution_count": 29
        }
      ]
    },
    {
      "cell_type": "markdown",
      "metadata": {
        "id": "5CBLKaDj3FD0"
      },
      "source": [
        "## Otras operaciones"
      ]
    },
    {
      "cell_type": "code",
      "execution_count": 14,
      "metadata": {
        "id": "veRmS9Rc3FD1",
        "outputId": "34427d5d-22c8-4aca-b528-9d63d8e35a95",
        "colab": {
          "base_uri": "https://localhost:8080/"
        }
      },
      "outputs": [
        {
          "output_type": "execute_result",
          "data": {
            "text/plain": [
              "8"
            ]
          },
          "metadata": {},
          "execution_count": 14
        }
      ],
      "source": [
        "2**3"
      ]
    },
    {
      "cell_type": "code",
      "execution_count": 15,
      "metadata": {
        "id": "4U1q5NQ_3FD2",
        "outputId": "07e01ac6-ff2b-422e-8894-93e6799e6f32",
        "colab": {
          "base_uri": "https://localhost:8080/"
        }
      },
      "outputs": [
        {
          "output_type": "execute_result",
          "data": {
            "text/plain": [
              "(False, True)"
            ]
          },
          "metadata": {},
          "execution_count": 15
        }
      ],
      "source": [
        "5 == 2, 5 > 2"
      ]
    },
    {
      "cell_type": "code",
      "execution_count": 16,
      "metadata": {
        "id": "hmKeeATn3FD2",
        "outputId": "f5d45b1a-47bc-4613-c193-55b16b9d9f45",
        "colab": {
          "base_uri": "https://localhost:8080/"
        }
      },
      "outputs": [
        {
          "output_type": "execute_result",
          "data": {
            "text/plain": [
              "False"
            ]
          },
          "metadata": {},
          "execution_count": 16
        }
      ],
      "source": [
        "True == False"
      ]
    },
    {
      "cell_type": "code",
      "execution_count": 17,
      "metadata": {
        "id": "7co_Gj793FD4",
        "outputId": "fc130dc8-ef9b-46b2-d55d-bd462faa06cb",
        "colab": {
          "base_uri": "https://localhost:8080/"
        }
      },
      "outputs": [
        {
          "output_type": "execute_result",
          "data": {
            "text/plain": [
              "True"
            ]
          },
          "metadata": {},
          "execution_count": 17
        }
      ],
      "source": [
        "(True and True or (True and False))"
      ]
    },
    {
      "cell_type": "code",
      "source": [
        "not False"
      ],
      "metadata": {
        "id": "kOoCNENh7j9i",
        "outputId": "0b9a0b2a-8e45-4a81-c77b-3d92c27f818d",
        "colab": {
          "base_uri": "https://localhost:8080/"
        }
      },
      "execution_count": 65,
      "outputs": [
        {
          "output_type": "execute_result",
          "data": {
            "text/plain": [
              "True"
            ]
          },
          "metadata": {},
          "execution_count": 65
        }
      ]
    },
    {
      "cell_type": "markdown",
      "metadata": {
        "id": "lGL9hG933FD5"
      },
      "source": [
        "## Expresiones más abstractas"
      ]
    },
    {
      "cell_type": "code",
      "execution_count": 69,
      "metadata": {
        "id": "d8aZibBN3FD6",
        "outputId": "0bcfb08a-bb10-4822-9c51-c765ade64a80",
        "colab": {
          "base_uri": "https://localhost:8080/"
        }
      },
      "outputs": [
        {
          "output_type": "execute_result",
          "data": {
            "text/plain": [
              "15.205295600000001"
            ]
          },
          "metadata": {},
          "execution_count": 69
        }
      ],
      "source": [
        "pi = 3.14159\n",
        "radius = 2.2\n",
        "area = pi*(radius**2)\n",
        "area"
      ]
    },
    {
      "cell_type": "code",
      "execution_count": 72,
      "metadata": {
        "id": "v79y4mkB3FD7",
        "outputId": "7efcf76e-c48c-4d32-8aa7-47f6e4e422ce",
        "colab": {
          "base_uri": "https://localhost:8080/"
        }
      },
      "outputs": [
        {
          "output_type": "execute_result",
          "data": {
            "text/plain": [
              "84.94859360000001"
            ]
          },
          "metadata": {},
          "execution_count": 72
        }
      ],
      "source": [
        "radius = radius + 1\n",
        "area = pi*(radius*radius)\n",
        "area"
      ]
    },
    {
      "cell_type": "code",
      "source": [
        "radius"
      ],
      "metadata": {
        "id": "7ZAyMjSj8A_C",
        "outputId": "b9743508-9e65-489f-93a0-171b82ee54a1",
        "colab": {
          "base_uri": "https://localhost:8080/"
        }
      },
      "execution_count": 73,
      "outputs": [
        {
          "output_type": "execute_result",
          "data": {
            "text/plain": [
              "5.2"
            ]
          },
          "metadata": {},
          "execution_count": 73
        }
      ]
    },
    {
      "cell_type": "markdown",
      "metadata": {
        "id": "ZPFFMGkI3FD7"
      },
      "source": [
        "## Ejercicios"
      ]
    },
    {
      "cell_type": "markdown",
      "metadata": {
        "id": "pmUTTKsO3FD7"
      },
      "source": [
        "Escribe la expresión matemática de: "
      ]
    },
    {
      "cell_type": "code",
      "execution_count": 22,
      "metadata": {
        "id": "aNEkWsKt3FD7",
        "outputId": "9b97a2f3-71a0-4e4f-c96c-4c9426e2db77",
        "colab": {
          "base_uri": "https://localhost:8080/"
        }
      },
      "outputs": [
        {
          "output_type": "execute_result",
          "data": {
            "text/plain": [
              "3.0"
            ]
          },
          "metadata": {},
          "execution_count": 22
        }
      ],
      "source": [
        "(((((3 ** 2) ** 2) ** 2) ** 0.5) ** 0.5) ** 0.5"
      ]
    },
    {
      "cell_type": "markdown",
      "metadata": {
        "id": "fDs3NIcA3FD8"
      },
      "source": [
        "Evalúa la siguiente expresión $$\\frac{1}{1 + \\frac{1}{1 + \\frac{1}{1 + \\frac{1}{4}}}}$$"
      ]
    },
    {
      "cell_type": "code",
      "execution_count": 24,
      "metadata": {
        "id": "ix9952ky3FD8",
        "outputId": "752e23c5-6d07-48ff-e708-e87706868601",
        "colab": {
          "base_uri": "https://localhost:8080/"
        }
      },
      "outputs": [
        {
          "output_type": "execute_result",
          "data": {
            "text/plain": [
              "0.6428571428571428"
            ]
          },
          "metadata": {},
          "execution_count": 24
        }
      ],
      "source": [
        " (1/(1+1/(1+1/(1+1/4))))"
      ]
    },
    {
      "cell_type": "markdown",
      "metadata": {
        "id": "BSNszo--3FD_"
      },
      "source": [
        "Ejemplifica cada una de las operaciones aritméticas y lógicas de la diapositiva vista en clase."
      ]
    },
    {
      "cell_type": "code",
      "execution_count": 64,
      "metadata": {
        "id": "xWtEHhW93FEA",
        "outputId": "ff7f9e8f-6c78-4dae-9c32-4dc7788ac3aa",
        "colab": {
          "base_uri": "https://localhost:8080/"
        }
      },
      "outputs": [
        {
          "output_type": "execute_result",
          "data": {
            "text/plain": [
              "366.80410830837405"
            ]
          },
          "metadata": {},
          "execution_count": 64
        }
      ],
      "source": [
        "41**(1/2+1/4+1/6+1/8+1/10+1/12+1/14+1/16+1/18+1/20+1/22+1/24+1/26)"
      ]
    },
    {
      "cell_type": "markdown",
      "metadata": {
        "id": "jReam-K33FEB"
      },
      "source": [
        "*Más ejercicios en la sección 2.6 de Padmanabhan.*"
      ]
    }
  ],
  "metadata": {
    "interpreter": {
      "hash": "f13a15f6d8e6dbf190362d83f8f24b25050c3603e79608f15fd979d60be4a590"
    },
    "kernelspec": {
      "display_name": "Python 3.9.7 64-bit ('bg': conda)",
      "language": "python",
      "name": "python3"
    },
    "language_info": {
      "codemirror_mode": {
        "name": "ipython",
        "version": 3
      },
      "file_extension": ".py",
      "mimetype": "text/x-python",
      "name": "python",
      "nbconvert_exporter": "python",
      "pygments_lexer": "ipython3",
      "version": "3.9.7"
    },
    "orig_nbformat": 4,
    "colab": {
      "name": "introduction.ipynb",
      "provenance": [],
      "include_colab_link": true
    }
  },
  "nbformat": 4,
  "nbformat_minor": 0
}