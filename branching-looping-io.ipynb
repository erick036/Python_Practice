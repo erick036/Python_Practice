{
  "cells": [
    {
      "cell_type": "markdown",
      "metadata": {
        "id": "view-in-github",
        "colab_type": "text"
      },
      "source": [
        "<a href=\"https://colab.research.google.com/github/erick036/Python_Practice/blob/main/branching-looping-io.ipynb\" target=\"_parent\"><img src=\"https://colab.research.google.com/assets/colab-badge.svg\" alt=\"Open In Colab\"/></a>"
      ]
    },
    {
      "cell_type": "markdown",
      "metadata": {
        "id": "Ehy_Kn-38rPM"
      },
      "source": [
        "# Control de flujo e iteraciones"
      ]
    },
    {
      "cell_type": "markdown",
      "metadata": {
        "id": "EWjktS--8rPS"
      },
      "source": [
        "## Entrada y salida del usuario"
      ]
    },
    {
      "cell_type": "code",
      "execution_count": null,
      "metadata": {
        "id": "OvaFMZ-t8rPT"
      },
      "outputs": [],
      "source": [
        "hi = \"Hola amigos del PES\""
      ]
    },
    {
      "cell_type": "code",
      "execution_count": 10,
      "metadata": {
        "id": "6nu3ayRx8rPV",
        "outputId": "f16123c8-5730-4e2c-f8a6-c02714055e57",
        "colab": {
          "base_uri": "https://localhost:8080/",
          "height": 53
        }
      },
      "outputs": [
        {
          "name": "stdout",
          "output_type": "stream",
          "text": [
            "Ingresa tu nombre: Erick\n"
          ]
        },
        {
          "output_type": "execute_result",
          "data": {
            "application/vnd.google.colaboratory.intrinsic+json": {
              "type": "string"
            },
            "text/plain": [
              "'Hola mundo Erick'"
            ]
          },
          "metadata": {},
          "execution_count": 10
        }
      ],
      "source": [
        "name = input(\"Ingresa tu nombre: \")\n",
        "hello = \"Hola mundo\"\n",
        "saludo = hello + \" \" + name\n",
        "saludo"
      ]
    },
    {
      "cell_type": "code",
      "source": [
        "\"Hola \" + \"Erick\""
      ],
      "metadata": {
        "id": "kUqRkHF39ZrB",
        "outputId": "178bb673-86df-449f-cd62-e98c1c75498c",
        "colab": {
          "base_uri": "https://localhost:8080/",
          "height": 35
        }
      },
      "execution_count": 13,
      "outputs": [
        {
          "output_type": "execute_result",
          "data": {
            "application/vnd.google.colaboratory.intrinsic+json": {
              "type": "string"
            },
            "text/plain": [
              "'Hola Erick'"
            ]
          },
          "metadata": {},
          "execution_count": 13
        }
      ]
    },
    {
      "cell_type": "code",
      "execution_count": 14,
      "metadata": {
        "id": "KZ9_1BXt8rPW",
        "outputId": "f8dd82ed-2209-42ca-d546-7aa921a877e5",
        "colab": {
          "base_uri": "https://localhost:8080/"
        }
      },
      "outputs": [
        {
          "name": "stdout",
          "output_type": "stream",
          "text": [
            "Ingresa tu edad: 24\n"
          ]
        },
        {
          "output_type": "execute_result",
          "data": {
            "text/plain": [
              "8.0"
            ]
          },
          "metadata": {},
          "execution_count": 14
        }
      ],
      "source": [
        "edad = int(input(\"Ingresa tu edad: \"))\n",
        "edad/3"
      ]
    },
    {
      "cell_type": "markdown",
      "metadata": {
        "id": "FTMmweCH8rPZ"
      },
      "source": [
        "## Salida en consola"
      ]
    },
    {
      "cell_type": "code",
      "execution_count": 3,
      "metadata": {
        "id": "dMDmAVIp8rPb",
        "outputId": "34de1ea9-a9f2-40f6-ee35-55b74fd85c2c",
        "colab": {
          "base_uri": "https://localhost:8080/"
        }
      },
      "outputs": [
        {
          "output_type": "stream",
          "name": "stdout",
          "text": [
            "Hola mundo Erick\n"
          ]
        }
      ],
      "source": [
        "print(saludo)"
      ]
    },
    {
      "cell_type": "code",
      "execution_count": 4,
      "metadata": {
        "id": "1EvAVoRd8rPc",
        "outputId": "e273f02a-685b-4c93-8004-319166b31eb4",
        "colab": {
          "base_uri": "https://localhost:8080/"
        }
      },
      "outputs": [
        {
          "output_type": "stream",
          "name": "stdout",
          "text": [
            "Hola mundo  ->  Erick\n"
          ]
        }
      ],
      "source": [
        "print(hello, \" -> \", name)"
      ]
    },
    {
      "cell_type": "markdown",
      "metadata": {
        "id": "wojfzapg8rPe"
      },
      "source": [
        "Argumentos `sep` y `end`"
      ]
    },
    {
      "cell_type": "code",
      "execution_count": 5,
      "metadata": {
        "id": "LKw3IJJS8rPg",
        "outputId": "0065fbd4-689b-4a98-ac05-3b359aadfbe5",
        "colab": {
          "base_uri": "https://localhost:8080/"
        }
      },
      "outputs": [
        {
          "output_type": "stream",
          "name": "stdout",
          "text": [
            "Hola mundo,Erick\n"
          ]
        }
      ],
      "source": [
        "print(hello, name, sep = \",\")"
      ]
    },
    {
      "cell_type": "code",
      "execution_count": 6,
      "metadata": {
        "id": "xGXBR8358rPh",
        "outputId": "9a2f3edf-57f4-4084-d669-222764ceca1d",
        "colab": {
          "base_uri": "https://localhost:8080/"
        }
      },
      "outputs": [
        {
          "output_type": "stream",
          "name": "stdout",
          "text": [
            "Hola mundo Erick :)"
          ]
        }
      ],
      "source": [
        "print(hello, name, end = \" :)\")"
      ]
    },
    {
      "cell_type": "markdown",
      "metadata": {
        "id": "-ttG4lEu8rPh"
      },
      "source": [
        "Combinar variables en el texto (interpolación)"
      ]
    },
    {
      "cell_type": "code",
      "execution_count": 8,
      "metadata": {
        "id": "V9pGIBUP8rPi",
        "outputId": "0b95b583-cf7d-4922-aebf-eff56c4f12a8",
        "colab": {
          "base_uri": "https://localhost:8080/"
        }
      },
      "outputs": [
        {
          "output_type": "stream",
          "name": "stdout",
          "text": [
            "Hola Erick, Pi=3.1415\n"
          ]
        }
      ],
      "source": [
        "pi=3.1415\n",
        "print(\"Hola %s, Pi=%0.4f\" % ('Erick', pi))"
      ]
    },
    {
      "cell_type": "markdown",
      "metadata": {
        "id": "jqJNxTqH8rPi"
      },
      "source": [
        "También es posible utilizando diccionarios: "
      ]
    },
    {
      "cell_type": "code",
      "execution_count": 9,
      "metadata": {
        "id": "XUHcBV_W8rPj",
        "outputId": "b97af6c4-c4e8-4da3-a7d1-5d0cfd8470aa",
        "colab": {
          "base_uri": "https://localhost:8080/"
        }
      },
      "outputs": [
        {
          "output_type": "stream",
          "name": "stdout",
          "text": [
            "Pi = 3.1415\n"
          ]
        }
      ],
      "source": [
        "print(\"Pi = %(pi)s\" % {'pi' : pi})"
      ]
    },
    {
      "cell_type": "markdown",
      "metadata": {
        "id": "L63w4anG8rPj"
      },
      "source": [
        "El método más reciente es el de *f-strings*:"
      ]
    },
    {
      "cell_type": "code",
      "execution_count": null,
      "metadata": {
        "id": "tHbU7z_h8rPj",
        "outputId": "f3464e91-bd84-43df-f4b1-616f996574b6"
      },
      "outputs": [
        {
          "name": "stdout",
          "output_type": "stream",
          "text": [
            "Mi nombre es Rod y tu edad en 2 años será 14\n"
          ]
        }
      ],
      "source": [
        "print(f\"Mi nombre es {name} y tu edad en 2 años será {edad+2}\")"
      ]
    },
    {
      "cell_type": "markdown",
      "metadata": {
        "id": "sFj-YG1b8rPk"
      },
      "source": [
        "## Condicionales\n",
        "\n",
        "```python\n",
        "if <condition>:\n",
        "    <expression>\n",
        "    <expression>\n",
        "    ...\n",
        "```"
      ]
    },
    {
      "cell_type": "code",
      "execution_count": null,
      "metadata": {
        "id": "bfy-RPru8rPl",
        "outputId": "8552eba5-7573-4449-b4a7-db3ce970a842"
      },
      "outputs": [
        {
          "name": "stdout",
          "output_type": "stream",
          "text": [
            "Condición es verdadera\n",
            "Y se ejecuta este bloque. Note la indentación\n"
          ]
        }
      ],
      "source": [
        "if True: \n",
        "    print(\"Condición es verdadera\")\n",
        "    print(\"Y se ejecuta este bloque. Note la indentación\")"
      ]
    },
    {
      "cell_type": "code",
      "execution_count": null,
      "metadata": {
        "id": "S71Z6xMT8rPm",
        "outputId": "5777208d-fa0f-489c-e0c9-d166c2b1b0c9"
      },
      "outputs": [
        {
          "name": "stdout",
          "output_type": "stream",
          "text": [
            "Condición es verdadera\n"
          ]
        }
      ],
      "source": [
        "if 1: print(\"Condición es verdadera\")"
      ]
    },
    {
      "cell_type": "markdown",
      "metadata": {
        "id": "P2wEuA2A8rPn"
      },
      "source": [
        "Bloque `else`\n",
        "\n",
        "```python\n",
        "if <condition>:\n",
        "    <expression>\n",
        "    ...\n",
        "else:\n",
        "    <expression>\n",
        "    ...\n",
        "```"
      ]
    },
    {
      "cell_type": "code",
      "execution_count": null,
      "metadata": {
        "id": "rFW_qdNI8rPn",
        "outputId": "95584ed9-c8d0-44f2-e990-b34d37d97fd2"
      },
      "outputs": [
        {
          "name": "stdout",
          "output_type": "stream",
          "text": [
            "Se ejecuta el bloque else\n"
          ]
        }
      ],
      "source": [
        "if False: \n",
        "    pass\n",
        "else:\n",
        "    print(\"Se ejecuta el bloque else\") "
      ]
    },
    {
      "cell_type": "markdown",
      "metadata": {
        "id": "mow6jk0c8rPp"
      },
      "source": [
        "Cláusula `elif` para condiciones adicionales: \n",
        "\n",
        "```python\n",
        "if <condition>:\n",
        "    <expression>\n",
        "    ...\n",
        "elif <condition>:\n",
        "    <expression>\n",
        "    ...\n",
        "else:\n",
        "    <expression>\n",
        "    ...\n",
        "```"
      ]
    },
    {
      "cell_type": "code",
      "execution_count": null,
      "metadata": {
        "id": "p5YgjIGz8rPs",
        "outputId": "8cad72fa-5c21-4ab6-deb1-bf8354a57cec"
      },
      "outputs": [
        {
          "name": "stdout",
          "output_type": "stream",
          "text": [
            "x and y are equal\n",
            "therefore, x / y is 1.0\n",
            "thanks!\n"
          ]
        }
      ],
      "source": [
        "x = float(input(\"Enter a number for x: \"))\n",
        "y = float(input(\"Enter a number for y: \"))\n",
        "if x == y:\n",
        "   print(\"x and y are equal\")\n",
        "   if y != 0: \n",
        "      print(\"therefore, x / y is\", x/y)\n",
        "elif x < y:\n",
        "   print(\"x is smaller\")\n",
        "elif x > y:\n",
        "   print(\"y is smaller\")\n",
        "\n",
        "print(\"thanks!\")"
      ]
    },
    {
      "cell_type": "markdown",
      "metadata": {
        "id": "rUCma6IQ8rPu"
      },
      "source": [
        "## Ciclo while\n",
        "\n",
        "Utilizado si queremos repetir una expresión o bloque hasta que se cumpla una condición.\n",
        "\n",
        "```python\n",
        "while <condition>:\n",
        "    <expression>\n",
        "    <expression>\n",
        "    ...\n",
        "```\n",
        "\n"
      ]
    },
    {
      "cell_type": "code",
      "execution_count": null,
      "metadata": {
        "id": "0aU1DnZL8rPu",
        "outputId": "f4e6ad3f-75aa-49b8-c9e0-9513a8c5d43c"
      },
      "outputs": [
        {
          "name": "stdout",
          "output_type": "stream",
          "text": [
            "0\n",
            "1\n",
            "2\n",
            "3\n",
            "4\n"
          ]
        }
      ],
      "source": [
        "n = 0\n",
        "while n < 5:\n",
        "    print(n)\n",
        "    n = n + 1"
      ]
    },
    {
      "cell_type": "code",
      "execution_count": null,
      "metadata": {
        "id": "fyesDPCU8rPv",
        "outputId": "fa2a31ee-62c9-4d24-cfc7-e9f4f63f2d36"
      },
      "outputs": [
        {
          "name": "stdout",
          "output_type": "stream",
          "text": [
            "Excelente, ahora eres programador@.\n"
          ]
        }
      ],
      "source": [
        "ans = input(\"Programar es divertido. \")\n",
        "while ans != \"Es genial\":\n",
        "    ans = input(\"Puedes pensarlo nuevamente?: \")\n",
        "print(\"Excelente, ahora eres programador@.\")"
      ]
    },
    {
      "cell_type": "markdown",
      "metadata": {
        "id": "2l0MBVyq8rPv"
      },
      "source": [
        "Este es un ciclo infinito. ¿Cómo le incorporamos una condición de finalización?"
      ]
    },
    {
      "cell_type": "code",
      "execution_count": null,
      "metadata": {
        "id": "iB-bS44U8rPv"
      },
      "outputs": [],
      "source": [
        "import time\n",
        "\n",
        "# while True: \n",
        "#     print(\"¡Eres genial!\")\n",
        "#     time.sleep(0.5)"
      ]
    },
    {
      "cell_type": "markdown",
      "metadata": {
        "id": "hjV2LyaG8rPw"
      },
      "source": [
        "## Ciclo for\n",
        "\n",
        "```python\n",
        "for <variable> in range(<some_num>):\n",
        "    <expression>\n",
        "    ...\n",
        "\n",
        "for <variable> in <collection>:\n",
        "    <expression>\n",
        "    ...\n",
        "```"
      ]
    },
    {
      "cell_type": "code",
      "execution_count": null,
      "metadata": {
        "id": "hrQL3vBR8rPw",
        "outputId": "08361926-5d72-4b68-a1fe-334f35132489"
      },
      "outputs": [
        {
          "name": "stdout",
          "output_type": "stream",
          "text": [
            "0\n",
            "1\n",
            "2\n",
            "3\n",
            "4\n"
          ]
        }
      ],
      "source": [
        "n = 0\n",
        "while n < 5:\n",
        "    print(n)\n",
        "    n = n + 1"
      ]
    },
    {
      "cell_type": "code",
      "execution_count": null,
      "metadata": {
        "id": "pA0rHqnh8rPx",
        "outputId": "a66bceeb-8839-4655-e46d-e68e4ee3b913"
      },
      "outputs": [
        {
          "name": "stdout",
          "output_type": "stream",
          "text": [
            "0\n",
            "1\n",
            "2\n",
            "3\n",
            "4\n"
          ]
        }
      ],
      "source": [
        "for n in range(5): \n",
        "    print(n)"
      ]
    },
    {
      "cell_type": "markdown",
      "metadata": {
        "id": "QOU2Wx3S8rPx"
      },
      "source": [
        "- `range` posee argumentos `(start, stop [, step])`:"
      ]
    },
    {
      "cell_type": "code",
      "execution_count": null,
      "metadata": {
        "id": "oW00Aerj8rPx",
        "outputId": "f7bc1175-6ff9-46c1-b4fe-d917790c0fde"
      },
      "outputs": [
        {
          "name": "stdout",
          "output_type": "stream",
          "text": [
            "5\n",
            "7\n",
            "9\n"
          ]
        }
      ],
      "source": [
        "for n in range(5, 10, 2): \n",
        "    print(n)"
      ]
    },
    {
      "cell_type": "code",
      "execution_count": null,
      "metadata": {
        "id": "aDs3MLNt8rPx",
        "outputId": "61b269ca-07ed-4324-f03d-f8d3ea237753"
      },
      "outputs": [
        {
          "name": "stdout",
          "output_type": "stream",
          "text": [
            "7\n",
            "15\n",
            "24\n"
          ]
        }
      ],
      "source": [
        "# Sumamos números de 7 a 9\n",
        "mysum = 0\n",
        "for i in range(7, 10):\n",
        "    mysum += i\n",
        "    print(mysum)"
      ]
    },
    {
      "cell_type": "code",
      "execution_count": null,
      "metadata": {
        "id": "xSHra9Nv8rPy",
        "outputId": "fc2eb184-e76b-4695-8ce9-1d64a49e2af0"
      },
      "outputs": [
        {
          "name": "stdout",
          "output_type": "stream",
          "text": [
            "5\n",
            "12\n",
            "21\n"
          ]
        }
      ],
      "source": [
        "# Sumamos números impares\n",
        "mysum = 0\n",
        "for i in range(5, 11, 2):\n",
        "    mysum += i\n",
        "    print(mysum)"
      ]
    },
    {
      "cell_type": "markdown",
      "metadata": {
        "id": "BK5PSE_W8rPy"
      },
      "source": [
        "## Break\n",
        "\n",
        "- Fuerza la salida del ciclo actual.\n",
        "- Instrucciones posteriores son ignoradas. \n",
        "- Solamente actúa en el **ciclo más interno**.\n",
        "\n",
        "```python\n",
        "while <condition_1>:\n",
        "    while <condition_2>:\n",
        "        <expression_A>\n",
        "        break\n",
        "        <expression_B>\n",
        "    <expression_C>\n",
        "```"
      ]
    },
    {
      "cell_type": "code",
      "execution_count": null,
      "metadata": {
        "id": "E0Zad6R_8rPz",
        "outputId": "d0df6635-ad14-451f-e0f6-1bc77efac8c0"
      },
      "outputs": [
        {
          "name": "stdout",
          "output_type": "stream",
          "text": [
            "5\n",
            "Llegué\n",
            "5\n"
          ]
        }
      ],
      "source": [
        "mysum= 0\n",
        "for i in range(5, 11):\n",
        "    mysum += i\n",
        "    print(mysum)\n",
        "    if mysum == 5: \n",
        "        print(\"Llegué\")\n",
        "        break\n",
        "        mysum += 1 \n",
        "print(mysum)"
      ]
    },
    {
      "cell_type": "markdown",
      "metadata": {
        "id": "LalKdTJW8rP2"
      },
      "source": [
        "## Ciclos `for` vs. `while`"
      ]
    },
    {
      "cell_type": "markdown",
      "metadata": {
        "id": "nSJB-VbB8rP3"
      },
      "source": [
        "- `for`: \n",
        "  - Se conoce el número de iteraciones. \n",
        "  - Utiliza un contador o colección. \n",
        "  - Se puede reescribir como un ciclo `while`. \n",
        "\n",
        "- `while`: \n",
        "  - Número de iteraciones no determinado o acotado. \n",
        "  - Puede utilizar contador, pero debe inicializarse y actualizarlo. \n",
        "  - Condición más compleja de parada, que podría no poder reescribirse como un ciclo `for`."
      ]
    },
    {
      "cell_type": "markdown",
      "metadata": {
        "id": "oVSigKEu8rP3"
      },
      "source": [
        "## Ejercicios"
      ]
    },
    {
      "cell_type": "markdown",
      "metadata": {
        "id": "lTMm5LFC8rP3"
      },
      "source": [
        "Reemplaza el comentario para utilizar un ciclo `while`"
      ]
    },
    {
      "cell_type": "code",
      "execution_count": null,
      "metadata": {
        "id": "QC3N5-vp8rP4"
      },
      "outputs": [],
      "source": [
        "numXs = int(input('How many times should I print the letter X? '))\n",
        "toPrint = ''\n",
        "#concatenate X to toPrint numXs times\n",
        "print(toPrint)"
      ]
    },
    {
      "cell_type": "markdown",
      "metadata": {
        "id": "WInAgZkp8rP4"
      },
      "source": [
        "Escriba un programa en Python para evaluar lo siguiente de forma iterativa. Continúe la iteración hasta que el cambio debido al último elemento como una fracción del último valor sea menor que $10^{−6}$: $$x = \\frac{1}{1!} + \\frac{2}{2!}+ \\frac{3}{3!}+ \\frac{4}{4!} + \\ldots$$"
      ]
    },
    {
      "cell_type": "code",
      "execution_count": null,
      "metadata": {
        "id": "2fhikg3l8rP4"
      },
      "outputs": [],
      "source": [
        ""
      ]
    },
    {
      "cell_type": "markdown",
      "metadata": {
        "id": "lt_rDb4B8rP4"
      },
      "source": [
        "Escriba un programa que le pida al usuario que ingrese 5 enteros y luego imprima el número impar más grande que se ingresó. Si no se ingresó un número impar, debería imprimir un mensaje a tal efecto."
      ]
    },
    {
      "cell_type": "code",
      "execution_count": null,
      "metadata": {
        "id": "C2GZT7Mx8rP4"
      },
      "outputs": [],
      "source": [
        ""
      ]
    },
    {
      "cell_type": "markdown",
      "metadata": {
        "id": "4KAygTOj8rP4"
      },
      "source": [
        "*Más ejercicios en la sección 3.5 de Padmanabhan.*"
      ]
    }
  ],
  "metadata": {
    "interpreter": {
      "hash": "f13a15f6d8e6dbf190362d83f8f24b25050c3603e79608f15fd979d60be4a590"
    },
    "kernelspec": {
      "display_name": "Python 3.9.7 64-bit ('bg': conda)",
      "language": "python",
      "name": "python3"
    },
    "language_info": {
      "codemirror_mode": {
        "name": "ipython",
        "version": 3
      },
      "file_extension": ".py",
      "mimetype": "text/x-python",
      "name": "python",
      "nbconvert_exporter": "python",
      "pygments_lexer": "ipython3",
      "version": "3.9.7"
    },
    "orig_nbformat": 4,
    "colab": {
      "name": "branching-looping-io.ipynb",
      "provenance": [],
      "include_colab_link": true
    }
  },
  "nbformat": 4,
  "nbformat_minor": 0
}